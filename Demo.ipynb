{
 "cells": [
  {
   "cell_type": "markdown",
   "metadata": {},
   "source": [
    "# Getting Price of Bitcoin"
   ]
  },
  {
   "cell_type": "code",
   "execution_count": 1,
   "metadata": {},
   "outputs": [
    {
     "name": "stdout",
     "output_type": "stream",
     "text": [
      "{\"data\":{\"base\":\"BTC\",\"currency\":\"INR\",\"amount\":\"2706414.27908215\"}}\n"
     ]
    }
   ],
   "source": [
    "import json\n",
    "import time\n",
    "from datetime import datetime\n",
    "import copy\n",
    "import sys\n",
    "from IPython.display import clear_output, Image\n",
    "\n",
    "import random\n",
    "import matplotlib.pyplot as plt\n",
    "import numpy as np\n",
    "  \n",
    "from hashlib import sha256\n",
    "import hashlib\n",
    "import nacl.encoding\n",
    "import nacl.signing\n",
    "\n",
    "import requests\n",
    "response = requests.get(\"https://api.coinbase.com/v2/prices/spot?currency=INR\")\n",
    "print(response.text)"
   ]
  },
  {
   "cell_type": "markdown",
   "metadata": {},
   "source": [
    "# Hashing text (SHA-256)"
   ]
  },
  {
   "cell_type": "code",
   "execution_count": 2,
   "metadata": {},
   "outputs": [
    {
     "name": "stdout",
     "output_type": "stream",
     "text": [
      "72521d39418837febda612e3cf73edb8b8b87466a4f570858cf44ebc2f843b4e\n"
     ]
    }
   ],
   "source": [
    "# Hash functions expect bytes as input: the encode() method\n",
    "#turns strings to bytes\n",
    "\n",
    "input_bytes = b\"Booleaaannnnnnnnnnnnnnnnn\"\n",
    "output = hashlib.sha256(input_bytes)\n",
    "\n",
    "# We use hexdigest() to convert bytes to hex because it's\n",
    "#easier to read\n",
    "\n",
    "print(output.hexdigest())"
   ]
  },
  {
   "cell_type": "markdown",
   "metadata": {},
   "source": [
    "# Example of a block"
   ]
  },
  {
   "cell_type": "raw",
   "metadata": {},
   "source": [
    "block_42069 = {\n",
    " 'index': 42069,\n",
    " 'timestamp': \"1905-05-12T09:09:43.285666\",\n",
    " 'data': [\n",
    "            {\n",
    "             'sender': \"Ramanujan\",\n",
    "             'recipient': \"Hardy\",\n",
    "             'amount': \"£1729\",\n",
    "            }\n",
    "         ],\n",
    " 'previous_hash': \"2cf24ba5f\",\n",
    " 'hash': \"83b2ac5b\"\n",
    "}"
   ]
  },
  {
   "cell_type": "markdown",
   "metadata": {},
   "source": [
    "# Blockchain with Proof-Of-Work\n",
    "Here, we choose POW as first four digits of the output of the hash function to be zero."
   ]
  },
  {
   "cell_type": "code",
   "execution_count": 12,
   "metadata": {},
   "outputs": [],
   "source": [
    "class Blockchain(object):\n",
    "    def __init__(self):\n",
    "        self.chain = [{'index': 0,\n",
    "                      'timestamp': '2009-01-03T23:45:47.066730',\n",
    "                      'transactions': 'The Times 03/Jan/2009 Chancellor on brink of second bailout for banks.',\n",
    "                      'previous_hash': None,\n",
    "                      'nonsense': '000000000019d6689c085ae165831e934ff763ae46a2a6c172b3f1b60a8ce26f',\n",
    "                      'hash': '387af2fc62d2b8ce8a5ca156f04dfc79b4b1246df4b1840472bf17417521f591'}]\n",
    "        \n",
    "        #self.pending_transactions = []\n",
    "        \n",
    "        # Create the genesis block\n",
    "        print(\"Creating genesis block\")\n",
    "        #self.chain.append(self.new_block())\n",
    "        \n",
    "    \n",
    "    def new_block(self):\n",
    "        block = {\n",
    "            'index': len(self.chain),\n",
    "            'timestamp': datetime.utcnow().isoformat(),\n",
    "            'transactions': current_transaction,\n",
    "            'previous_hash': self.last_block[\"hash\"] if self.last_block else None,\n",
    "            'nonsense': format(random.getrandbits(64), \"x\") #Introduce a little anarchy\n",
    "                }\n",
    "        \n",
    "\n",
    "        # Get the hash of this new block, and add it to the block\n",
    "        block_hash = self.hash(block)\n",
    "        block[\"hash\"] = block_hash\n",
    "\n",
    "        # Reset the list of pending transactions\n",
    "        #self.pending_transactions ={}\n",
    "        return block\n",
    "    \n",
    "    \n",
    "    def print_chain(self):\n",
    "        for x in self.chain:\n",
    "            print()\n",
    "            for y in self.chain[x['index']]:\n",
    "                print (y,':',self.chain[x['index']][y])\n",
    "        return\n",
    "\n",
    "    @staticmethod\n",
    "    def hash(block):\n",
    "        # We ensure the dictionary is sorted or we'll have inconsistent hashes\n",
    "        block_string = json.dumps(block, sort_keys=True).encode()\n",
    "        return sha256(block_string).hexdigest()\n",
    "\n",
    "    @property\n",
    "    def last_block(self):\n",
    "        # Returns the last block in the chain (if there are blocks)\n",
    "        return self.chain[-1] if self.chain else None\n",
    "\n",
    "    @staticmethod\n",
    "    def valid_block(block,POW_condition):\n",
    "        # Checks if a block's hash starts with POW_condition\n",
    "            \n",
    "        return block[\"hash\"].startswith(POW_condition)\n",
    "\n",
    "    def proof_of_work(self,POW_len):\n",
    "        print(\"\\n******* Mining *********\")\n",
    "        ti=time.time()\n",
    "        POW_condition =\"\"\n",
    "        for i in range(POW_len):\n",
    "            POW_condition  = POW_condition +\"0\"\n",
    "        while True:\n",
    "            new_block = self.new_block()\n",
    "            if self.valid_block(new_block,POW_condition):\n",
    "                break\n",
    "\n",
    "        self.chain.append(new_block)\n",
    "        \n",
    "        print(\"\\nFound a new block with starting with {} in: {} seconds\".format(POW_condition,time.time()-ti))\n",
    "        print(\"With the hash being = \", new_block[\"hash\"])\n",
    "        print(\"\")\n",
    "        return"
   ]
  },
  {
   "cell_type": "code",
   "execution_count": null,
   "metadata": {},
   "outputs": [],
   "source": [
    "bc_POW_example = Blockchain()"
   ]
  },
  {
   "cell_type": "code",
   "execution_count": null,
   "metadata": {},
   "outputs": [],
   "source": [
    "bc_POW_example.chain"
   ]
  },
  {
   "cell_type": "code",
   "execution_count": null,
   "metadata": {},
   "outputs": [],
   "source": [
    " for len_of_PoW in range(1,7):\n",
    "    bc_POW_example.proof_of_work(len_of_PoW)"
   ]
  },
  {
   "cell_type": "markdown",
   "metadata": {},
   "source": [
    "\n",
    "******* Mining *********\n",
    "\n",
    "Found a new block with starting with 0 in: 0.0 seconds\n",
    "With the hash being =  05f5fb7f49aa7ed811abb8f2efbe7c5b4fddeeb189dafcabe6bac06df8cf2ced\n",
    "\n",
    "\n",
    "******* Mining *********\n",
    "\n",
    "Found a new block with starting with 00 in: 0.021504640579223633 seconds\n",
    "With the hash being =  00ff2dcd0ff5951178a4c28f82bd28002999c3520851c49e681e6193f71b0ce6\n",
    "\n",
    "\n",
    "******* Mining *********\n",
    "\n",
    "Found a new block with starting with 000 in: 0.1748180389404297 seconds\n",
    "With the hash being =  000e03e7e2a980fa7f20382890d1a4ade6a46ebf9a4adf0b020c25db199c367e\n",
    "\n",
    "\n",
    "******* Mining *********\n",
    "\n",
    "Found a new block with starting with 0000 in: 2.346092700958252 seconds\n",
    "With the hash being =  000086e6818142c4caf84ae9db45ab7fbb8687076416c301204d6d288ec929f4\n",
    "\n",
    "\n",
    "******* Mining *********\n",
    "\n",
    "Found a new block with starting with 00000 in: 18.0671603679657 seconds\n",
    "With the hash being =  0000017c14333b9d75e3c7665fae4385e384c0ab330e57e4d53973478ba5da74\n",
    "\n",
    "\n",
    "******* Mining *********\n",
    "\n",
    "Found a new block with starting with 000000 in: 336.44659876823425 seconds\n",
    "With the hash being =  000000080018e4701d3449692cab9219c41c5ba9f760fb285e1760ce2c689422\n",
    "\n",
    "\n",
    "******* Mining *********\n",
    "\n",
    "Found a new block with starting with 0000000 in: 8780.913450241089 seconds\n",
    "With the hash being =  000000021fb64f77f9e4812346a51c8cede35045eab6a7647efadc658b27b207\n"
   ]
  },
  {
   "cell_type": "markdown",
   "metadata": {},
   "source": [
    "# Elliptic Curve Digital Signatures Algorithm"
   ]
  },
  {
   "cell_type": "code",
   "execution_count": 5,
   "metadata": {},
   "outputs": [
    {
     "data": {
      "image/png": "[encoded data removed]",
      "text/plain": [
       "<Figure size 432x288 with 1 Axes>"
      ]
     },
     "metadata": {
      "needs_background": "light"
     },
     "output_type": "display_data"
    }
   ],
   "source": [
    "# Below are the public specs for Bitcoin's curve - the secp256k1\n",
    "Pcurve = 2**256 - 2**32 - 2**9 - 2**8 - 2**7 - 2**6 - 2**4 -1       # A large prime\n",
    "Acurve = 0; Bcurve = 7            # Parameters for curve: y^2 = x^3 + Acurve * x + Bcurve\n",
    "\n",
    "Gx = 55066263022277343669578718895168534326250603453777594175500187360389116729240\n",
    "Gy = 32670510020758816978083085130507043184471273380659243275938904335757337482424\n",
    "GPoint = (Gx,Gy) # We choose this as our generator point\n",
    "\n",
    "N=0xFFFFFFFFFFFFFFFFFFFFFFFFFFFFFFFEBAAEDCE6AF48A03BBFD25E8CD0364141 # Number of points in the field\n",
    "\n",
    "#print(\"Number of points available in field is: \", int(N))\n",
    "fig, ax = plt.subplots()\n",
    "x_r=6\n",
    "y, x = np.ogrid[-x_r:x_r:1000j, -x_r:x_r:1000j]\n",
    "plt.contour(x.ravel(), y.ravel(), y**2 - x**3 - Acurve*x -Bcurve, [0])\n",
    "plt.title(r\"The elliptic curve used in Bitcoin (SECP256K1): \")\n",
    "plt.annotate(r\"$y^2 = x^3 + ax + b$\" \"\\n\" r\"$a=0,\\ b=7$\",[-x_r//1.4,0])\n",
    "\n",
    "plt.show()"
   ]
  },
  {
   "cell_type": "code",
   "execution_count": 16,
   "metadata": {},
   "outputs": [],
   "source": [
    "def modinv(a,n=Pcurve): #Extended Euclidean Algorithm/'division' in elliptic curves\n",
    "    lm, hm = 1,0\n",
    "    low, high = a%n,n\n",
    "    while low > 1:\n",
    "        ratio = high//low\n",
    "        nm, new = hm- lm*ratio, high- low*ratio\n",
    "        lm, low, hm, high = nm, new, lm, low\n",
    "    return lm % n\n",
    "\n",
    "def ECadd(xp,yp,xq,yq): # Not true addition, invented for EC. It adds Point-P with Point-Q.\n",
    "    m = ((yq-yp) * modinv(xq-xp,Pcurve)) % Pcurve\n",
    "    xr = ((m*m)-xp-xq) % Pcurve\n",
    "    yr = (m*(xp-xr)-yp) % Pcurve\n",
    "    return (xr,yr)\n",
    "\n",
    "def ECdouble(xp,yp): # EC point doubling,  invented for EC. It doubles Point-P.\n",
    "    LamNumer = 3*xp*xp+Acurve\n",
    "    LamDenom = 2*yp\n",
    "    Lam = (LamNumer * modinv(LamDenom,Pcurve)) % Pcurve\n",
    "    xr = ((Lam*Lam)-(2*xp)) % Pcurve\n",
    "    yr = ((Lam*(xp-xr))-yp) % Pcurve\n",
    "    return (xr,yr)\n",
    "\n",
    "\n",
    "\n",
    "\n",
    "def EccMultiply(xs,ys,Scalar): # Double & add. EC Multiplication, Not true multiplication\n",
    "    if Scalar == 0 or Scalar >= N: raise Exception(\"Invalid Scalar/Private Key\")\n",
    "    ScalarBin = str(bin(Scalar))[2:]\n",
    "    Qx,Qy=xs,ys\n",
    "    for i in range (1, len(ScalarBin)): # This is invented EC multiplication.\n",
    "        Qx,Qy=ECdouble(Qx,Qy); # print \"DUB\", Qx; print\n",
    "        if ScalarBin[i] == \"1\":\n",
    "            Qx,Qy=ECadd(Qx,Qy,xs,ys); # print \"ADD\", Qx; print\n",
    "    return (Qx,Qy)\n",
    "\n",
    "\n",
    "\n",
    "\n",
    "def public_keygen(privKey):\n",
    "    print(\"\\n******* Public Key Generation *********\")\n",
    "    xPublicKey, yPublicKey = EccMultiply(Gx,Gy,privKey)\n",
    "    #print(\"the private key (in base 10 format):\"); print(privKey)\n",
    "    #print(\"\\nthe uncompressed public key: (x,y) on curve\"); print(xPublicKey,yPublicKey)\n",
    "    return xPublicKey,yPublicKey\n",
    "\n",
    "def sign_gen(HashOfThingToSign,privKey):\n",
    "    print(\"\\n******* Signature Generation *********\")\n",
    "    xRandSignPoint, yRandSignPoint = EccMultiply(Gx,Gy,RandNum)\n",
    "    r = xRandSignPoint % N; print(\"Verify Key (r) =\", r)\n",
    "\n",
    "    s =((HashOfThingToSign + r*privKey)*(modinv(RandNum,N))) % N\n",
    "    print(\"Digital Signature (s) =\", s)\n",
    "    return r,s\n",
    "\n",
    "def sign_verify(r,s,PublicKey,HashOfThingToSign):\n",
    "    print(\"\\n******* Signature Verification *********\")\n",
    "    w = modinv(s,N)\n",
    "    #print(PublicKey[0],PublicKey[1])\n",
    "    xu1, yu1 = EccMultiply(Gx,Gy,(HashOfThingToSign * w)%N)\n",
    "    xu2, yu2 = EccMultiply(PublicKey[0],PublicKey[1],(r*w)%N)\n",
    "    x,y = ECadd(xu1,yu1,xu2,yu2)\n",
    "    \n",
    "    return x==r\n",
    "\n",
    "RandNum = 28695618543805844332113829720373285210420739438570883203839696518176414791234 #replace with a truly random number\n",
    "#Replace ideally for every signature applied"
   ]
  },
  {
   "cell_type": "markdown",
   "metadata": {},
   "source": [
    "# Receiving Transactions"
   ]
  },
  {
   "cell_type": "code",
   "execution_count": 17,
   "metadata": {},
   "outputs": [],
   "source": [
    "def keygen(name):\n",
    " \n",
    "    print(\"\\nIt seems like you're a new user, {}\".format(name))\n",
    "    \n",
    "    print(\"\\n******* Private Key Generation *********\")\n",
    "    priv_key_temp_nacl = nacl.signing.SigningKey.generate()\n",
    "    priv_key_temp = int(priv_key_temp_nacl.encode(encoder=nacl.encoding.HexEncoder),16)\n",
    "    print(\"\\nHere's your private key, store it somewhere or you won't be able to add transactions:\")\n",
    "    print(priv_key_temp)\n",
    "    \n",
    "    pub_key_temp = public_keygen(priv_key_temp)\n",
    "    print(\"\\nHere's your public key: (x and y points on curve)\")\n",
    "    print(pub_key_temp[0])\n",
    "    print(pub_key_temp[1])\n",
    "    \n",
    "    public_key[name] = pub_key_temp\n",
    "    private_key[name] = priv_key_temp\n",
    "\n",
    "    return pub_key_temp\n",
    "\n",
    "\n",
    "def transactions():\n",
    "\n",
    "    name = input(\"\\nEnter your name:\")\n",
    "    try:\n",
    "        public_key[name]\n",
    "    except KeyError:\n",
    "        keygen(name)\n",
    "    \n",
    "    \n",
    "    print(\"\\n******* Transaction (limited to one per block rn) *********\")\n",
    "    transaction = input(\"\\nEnter your transaction:\")\n",
    "    #print(type(transaction))\n",
    "    transaction = transaction.encode('UTF-8')\n",
    "    private_key_temp = int(input(\"\\nEnter your private key to sign this transaction:\"))\n",
    "\n",
    "    hash_digest=int(sha256(transaction).hexdigest(),16)\n",
    "    #print(\"The hash of the transaction message is:\",hash_digest)\n",
    "    verify_key, signature = sign_gen(hash_digest,private_key_temp)\n",
    "    \n",
    "\n",
    "    check=(sign_verify(verify_key, signature, public_key[name],hash_digest))\n",
    "    print(check)\n",
    "    assert(check==True)\n",
    "\n",
    "    return transaction.decode('UTF-8')"
   ]
  },
  {
   "cell_type": "markdown",
   "metadata": {},
   "source": [
    "# Initialising Blockchain"
   ]
  },
  {
   "cell_type": "code",
   "execution_count": 18,
   "metadata": {},
   "outputs": [
    {
     "name": "stdout",
     "output_type": "stream",
     "text": [
      "Creating genesis block\n"
     ]
    }
   ],
   "source": [
    "public_key= {}\n",
    "private_key={}\n",
    "current_transaction=\"Initial transaction\"\n",
    "bc= Blockchain()\n",
    "\n",
    "#current_transaction = copy.deepcopy(transactions()) #Genesis transaction"
   ]
  },
  {
   "cell_type": "code",
   "execution_count": 19,
   "metadata": {},
   "outputs": [
    {
     "data": {
      "text/plain": [
       "[{'index': 0,\n",
       "  'timestamp': '2009-01-03T23:45:47.066730',\n",
       "  'transactions': 'The Times 03/Jan/2009 Chancellor on brink of second bailout for banks.',\n",
       "  'previous_hash': None,\n",
       "  'nonsense': '000000000019d6689c085ae165831e934ff763ae46a2a6c172b3f1b60a8ce26f',\n",
       "  'hash': '387af2fc62d2b8ce8a5ca156f04dfc79b4b1246df4b1840472bf17417521f591'}]"
      ]
     },
     "execution_count": 19,
     "metadata": {},
     "output_type": "execute_result"
    }
   ],
   "source": [
    "bc.chain #Initialised with Bitcoin's original genesis block info"
   ]
  },
  {
   "cell_type": "markdown",
   "metadata": {},
   "source": [
    "# Transaction Time"
   ]
  },
  {
   "cell_type": "code",
   "execution_count": 20,
   "metadata": {},
   "outputs": [
    {
     "name": "stdout",
     "output_type": "stream",
     "text": [
      "\n",
      "Enter your name:batman\n",
      "\n",
      "It seems like you're a new user, batman\n",
      "\n",
      "******* Private Key Generation *********\n",
      "\n",
      "Here's your private key, store it somewhere or you won't be able to add transactions:\n",
      "48456960286419561367557825340195432646740384573140009708575234693056510726893\n",
      "\n",
      "******* Public Key Generation *********\n",
      "\n",
      "Here's your public key: (x and y points on curve)\n",
      "66131995410756326109388937279541483406169410433056853530079488947589437357697\n",
      "11857318311634074647357192117198063684789521443771155162806611216971638494969\n",
      "\n",
      "******* Transaction (limited to one per block rn) *********\n",
      "\n",
      "Enter your transaction:robin owes batman 10\n",
      "\n",
      "Enter your private key to sign this transaction:48456960286419561367557825340195432646740384573140009708575234693056510726893\n",
      "\n",
      "******* Signature Generation *********\n",
      "Verify Key (r) = 108450790312736419148091503336190989867379581793003243037811027177541631669413\n",
      "Digital Signature (s) = 31659752335077989133642733845175567322868502628002441523447274578623414316620\n",
      "\n",
      "******* Signature Verification *********\n",
      "True\n",
      "\n",
      "******* Mining *********\n",
      "\n",
      "Found a new block with starting with 0000 in: 0.18255019187927246 seconds\n",
      "With the hash being =  0000cad5e50d51d71eb9000a719158e50a478b64526ce39babd44fdff11610c5\n",
      "\n",
      "\n",
      "******* Current Blockchain *********\n",
      "\n",
      "index : 0\n",
      "timestamp : 2009-01-03T23:45:47.066730\n",
      "transactions : The Times 03/Jan/2009 Chancellor on brink of second bailout for banks.\n",
      "previous_hash : None\n",
      "nonsense : 000000000019d6689c085ae165831e934ff763ae46a2a6c172b3f1b60a8ce26f\n",
      "hash : 387af2fc62d2b8ce8a5ca156f04dfc79b4b1246df4b1840472bf17417521f591\n",
      "\n",
      "index : 1\n",
      "timestamp : 2021-05-21T19:10:28.484303\n",
      "transactions : robin owes batman 10\n",
      "previous_hash : 387af2fc62d2b8ce8a5ca156f04dfc79b4b1246df4b1840472bf17417521f591\n",
      "nonsense : 401f1491cac64881\n",
      "hash : 0000cad5e50d51d71eb9000a719158e50a478b64526ce39babd44fdff11610c5\n",
      "\n",
      "Do you want to add a new transaction?(y/n)\n",
      "n\n"
     ]
    }
   ],
   "source": [
    "choice=\"y\"\n",
    "#bc= Blockchain()\n",
    "while choice==\"y\":\n",
    "    clear_output(wait=True)\n",
    "    current_transaction = copy.deepcopy(transactions())\n",
    "    bc.proof_of_work(4)\n",
    "    print(\"\\n******* Current Blockchain *********\")\n",
    "    for x in bc.chain:\n",
    "        print()\n",
    "        for y in bc.chain[x['index']]:\n",
    "            print (y,':',bc.chain[x['index']][y])\n",
    "    print(\"\\nDo you want to add a new transaction?(y/n)\")\n",
    "    choice=input()"
   ]
  },
  {
   "cell_type": "code",
   "execution_count": null,
   "metadata": {},
   "outputs": [],
   "source": []
  }
 ],
 "metadata": {
  "kernelspec": {
   "display_name": "Python 3",
   "language": "python",
   "name": "python3"
  },
  "language_info": {
   "codemirror_mode": {
    "name": "ipython",
    "version": 3
   },
   "file_extension": ".py",
   "mimetype": "text/x-python",
   "name": "python",
   "nbconvert_exporter": "python",
   "pygments_lexer": "ipython3",
   "version": "3.7.6"
  }
 },
 "nbformat": 4,
 "nbformat_minor": 4
}
